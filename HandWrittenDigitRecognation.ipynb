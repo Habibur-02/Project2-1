{
 "cells": [
  {
   "cell_type": "markdown",
   "id": "8ad8fd5d",
   "metadata": {},
   "source": [
    "HandWritten digit recognetion project"
   ]
  },
  {
   "cell_type": "code",
   "execution_count": 1,
   "id": "8ccf5bd8",
   "metadata": {},
   "outputs": [],
   "source": [
    "#Generate dataset\n",
    "import cv2\n",
    "import csv\n",
    "import glob\n",
    "  \n",
    "header  =[\"label\"]\n",
    "for i in range(0,784):\n",
    "   header.append(\"pixel\"+str(i))\n",
    "with open('dataset.csv', 'a') as f:\n",
    "   writer = csv.writer(f)\n",
    "   writer.writerow(header)\n",
    "    \n",
    "for label in range(10):\n",
    "   dirList = glob.glob(\"captured_images/\"+str(label)+\"/*.png\")\n",
    "    \n",
    "   for img_path in dirList:\n",
    "       im= cv2.imread(img_path)\n",
    "       im_gray = cv2.cvtColor(im,cv2.COLOR_BGR2GRAY)\n",
    "       im_gray = cv2.GaussianBlur(im_gray,(15,15), 0)\n",
    "       roi= cv2.resize(im_gray,(28,28), interpolation=cv2.INTER_AREA)\n",
    "        \n",
    "       data=[]\n",
    "       data.append(label)\n",
    "       rows, cols = roi.shape\n",
    "        \n",
    "       ## Add pixel one by one into data array\n",
    "       for i in range(rows):\n",
    "           for j in range(cols):\n",
    "               k =roi[i,j]\n",
    "               if k>100:\n",
    "                   k=1\n",
    "               else:\n",
    "                   k=0\n",
    "               data.append(k)\n",
    "       with open('dataset.csv', 'a') as f:\n",
    "           writer = csv.writer(f)\n",
    "           writer.writerow(data)\n",
    "  "
   ]
  },
  {
   "cell_type": "code",
   "execution_count": 2,
   "id": "16ec93a7",
   "metadata": {},
   "outputs": [
    {
     "name": "stdout",
     "output_type": "stream",
     "text": [
      "     label pixel0 pixel1 pixel2 pixel3 pixel4 pixel5 pixel6 pixel7 pixel8   \n",
      "2945     9      0      0      0      0      0      0      0      1      1  \\\n",
      "1970     3      0      0      0      0      0      0      0      0      0   \n",
      "2707     8      0      0      0      0      0      0      0      0      0   \n",
      "1606     0      0      0      0      0      0      0      0      0      0   \n",
      "2353     5      0      0      0      0      0      0      0      0      0   \n",
      "...    ...    ...    ...    ...    ...    ...    ...    ...    ...    ...   \n",
      "2003     3      0      0      0      0      0      0      0      0      0   \n",
      "2369     5      0      0      0      0      0      0      0      0      0   \n",
      "185      1      0      0      0      0      0      0      0      0      0   \n",
      "2114     4      0      0      0      0      0      0      0      0      0   \n",
      "140      0      0      0      0      0      0      0      0      0      0   \n",
      "\n",
      "      ... pixel774 pixel775 pixel776 pixel777 pixel778 pixel779 pixel780   \n",
      "2945  ...        0        0        0        0        0        0        0  \\\n",
      "1970  ...        0        0        0        0        0        0        0   \n",
      "2707  ...        0        0        0        0        0        0        0   \n",
      "1606  ...        0        0        0        0        0        0        0   \n",
      "2353  ...        0        0        0        0        0        0        0   \n",
      "...   ...      ...      ...      ...      ...      ...      ...      ...   \n",
      "2003  ...        0        0        0        0        0        0        0   \n",
      "2369  ...        0        0        0        0        0        0        0   \n",
      "185   ...        0        0        0        0        0        0        0   \n",
      "2114  ...        0        0        0        0        0        0        0   \n",
      "140   ...        0        0        0        0        0        0        0   \n",
      "\n",
      "     pixel781 pixel782 pixel783  \n",
      "2945        0        0        0  \n",
      "1970        0        0        0  \n",
      "2707        0        0        0  \n",
      "1606        0        0        0  \n",
      "2353        0        0        0  \n",
      "...       ...      ...      ...  \n",
      "2003        0        0        0  \n",
      "2369        0        0        0  \n",
      "185         0        0        0  \n",
      "2114        0        0        0  \n",
      "140         0        0        0  \n",
      "\n",
      "[3001 rows x 785 columns]\n"
     ]
    },
    {
     "name": "stderr",
     "output_type": "stream",
     "text": [
      "C:\\Users\\abdul\\AppData\\Local\\Temp\\ipykernel_36924\\1132065330.py:4: DtypeWarning: Columns (0,1,2,3,4,5,6,7,8,9,10,11,12,13,14,15,16,17,18,19,20,21,22,23,24,25,26,27,28,29,30,31,32,33,34,35,36,37,38,39,40,41,42,43,44,45,46,47,48,49,50,51,52,53,54,55,56,57,58,59,60,61,62,63,64,65,66,67,68,69,70,71,72,73,74,75,76,77,78,79,80,81,82,83,84,85,86,87,88,89,90,91,92,93,94,95,96,97,98,99,100,101,102,103,104,105,106,107,108,109,110,111,112,113,114,115,116,117,118,119,120,121,122,123,124,125,126,127,128,129,130,131,132,133,134,135,136,137,138,139,140,141,142,143,144,145,146,147,148,149,150,151,152,153,154,155,156,157,158,159,160,161,162,163,164,165,166,167,168,169,170,171,172,173,174,175,176,177,178,179,180,181,182,183,184,185,186,187,188,189,190,191,192,193,194,195,196,197,198,199,200,201,202,203,204,205,206,207,208,209,210,211,212,213,214,215,216,217,218,219,220,221,222,223,224,225,226,227,228,229,230,231,232,233,234,235,236,237,238,239,240,241,242,243,244,245,246,247,248,249,250,251,252,253,254,255,256,257,258,259,260,261,262,263,264,265,266,267,268,269,270,271,272,273,274,275,276,277,278,279,280,281,282,283,284,285,286,287,288,289,290,291,292,293,294,295,296,297,298,299,300,301,302,303,304,305,306,307,308,309,310,311,312,313,314,315,316,317,318,319,320,321,322,323,324,325,326,327,328,329,330,331,332,333,334,335,336,337,338,339,340,341,342,343,344,345,346,347,348,349,350,351,352,353,354,355,356,357,358,359,360,361,362,363,364,365,366,367,368,369,370,371,372,373,374,375,376,377,378,379,380,381,382,383,384,385,386,387,388,389,390,391,392,393,394,395,396,397,398,399,400,401,402,403,404,405,406,407,408,409,410,411,412,413,414,415,416,417,418,419,420,421,422,423,424,425,426,427,428,429,430,431,432,433,434,435,436,437,438,439,440,441,442,443,444,445,446,447,448,449,450,451,452,453,454,455,456,457,458,459,460,461,462,463,464,465,466,467,468,469,470,471,472,473,474,475,476,477,478,479,480,481,482,483,484,485,486,487,488,489,490,491,492,493,494,495,496,497,498,499,500,501,502,503,504,505,506,507,508,509,510,511,512,513,514,515,516,517,518,519,520,521,522,523,524,525,526,527,528,529,530,531,532,533,534,535,536,537,538,539,540,541,542,543,544,545,546,547,548,549,550,551,552,553,554,555,556,557,558,559,560,561,562,563,564,565,566,567,568,569,570,571,572,573,574,575,576,577,578,579,580,581,582,583,584,585,586,587,588,589,590,591,592,593,594,595,596,597,598,599,600,601,602,603,604,605,606,607,608,609,610,611,612,613,614,615,616,617,618,619,620,621,622,623,624,625,626,627,628,629,630,631,632,633,634,635,636,637,638,639,640,641,642,643,644,645,646,647,648,649,650,651,652,653,654,655,656,657,658,659,660,661,662,663,664,665,666,667,668,669,670,671,672,673,674,675,676,677,678,679,680,681,682,683,684,685,686,687,688,689,690,691,692,693,694,695,696,697,698,699,700,701,702,703,704,705,706,707,708,709,710,711,712,713,714,715,716,717,718,719,720,721,722,723,724,725,726,727,728,729,730,731,732,733,734,735,736,737,738,739,740,741,742,743,744,745,746,747,748,749,750,751,752,753,754,755,756,757,758,759,760,761,762,763,764,765,766,767,768,769,770,771,772,773,774,775,776,777,778,779,780,781,782,783,784) have mixed types. Specify dtype option on import or set low_memory=False.\n",
      "  data  =pd.read_csv('dataset.csv')\n"
     ]
    }
   ],
   "source": [
    "#load the dataset\n",
    "import pandas as pd\n",
    "from sklearn.utils import shuffle\n",
    "data  =pd.read_csv('dataset.csv')\n",
    "data=shuffle(data)\n",
    "print(data)"
   ]
  },
  {
   "cell_type": "code",
   "execution_count": 3,
   "id": "2841d8f4",
   "metadata": {
    "scrolled": true
   },
   "outputs": [
    {
     "name": "stdout",
     "output_type": "stream",
     "text": [
      "2\n"
     ]
    },
    {
     "data": {
      "text/plain": [
       "<matplotlib.image.AxesImage at 0x2374d9a9210>"
      ]
     },
     "execution_count": 3,
     "metadata": {},
     "output_type": "execute_result"
    },
    {
     "data": {
      "image/png": "[encoded data removed]",
      "text/plain": [
       "<Figure size 640x480 with 1 Axes>"
      ]
     },
     "metadata": {},
     "output_type": "display_data"
    }
   ],
   "source": [
    "#separation of dependent and independent variable\n",
    "X = data.drop([\"label\"],axis=1)\n",
    "Y= data[\"label\"]\n",
    "\n",
    "            \n",
    "#preview of one image using matplotlib\n",
    "%matplotlib inline\n",
    "import matplotlib.pyplot as plt\n",
    "import cv2\n",
    "idx = 314\n",
    "img = X.loc[idx].values.reshape(28,28)\n",
    "print(Y[idx])\n",
    "plt.imshow(img)\n",
    "\n",
    "\n"
   ]
  },
  {
   "cell_type": "code",
   "execution_count": 4,
   "id": "fe366536",
   "metadata": {},
   "outputs": [],
   "source": [
    "#Train-Test split\n",
    "from sklearn.model_selection import train_test_split\n",
    "train_x,test_x,train_y,test_y = train_test_split(X,Y, test_size = 0.2)"
   ]
  },
  {
   "cell_type": "code",
   "execution_count": 5,
   "id": "de766f9b",
   "metadata": {},
   "outputs": [
    {
     "name": "stdout",
     "output_type": "stream",
     "text": [
      "Accuracy=  0.7\n"
     ]
    }
   ],
   "source": [
    "#Fit the model using svc and also to save the model using joblib\n",
    "#support vector machines\n",
    "import joblib\n",
    "from sklearn.svm import SVC\n",
    "classifier=SVC(kernel=\"linear\", random_state=6)\n",
    "classifier.fit(train_x,train_y)\n",
    "joblib.dump(classifier, \"model/digit_recognizer\")\n",
    "#calculate accuracy\n",
    "from sklearn import metrics\n",
    "prediction=classifier.predict(test_x)\n",
    "print(\"Accuracy= \",metrics.accuracy_score(prediction, test_y))"
   ]
  },
  {
   "cell_type": "code",
   "execution_count": 18,
   "id": "be4f4d89",
   "metadata": {},
   "outputs": [
    {
     "data": {
      "text/plain": [
       "0.72"
      ]
     },
     "execution_count": 18,
     "metadata": {},
     "output_type": "execute_result"
    }
   ],
   "source": [
    "#KNeighbors Classifier Algorithm\n",
    "from sklearn.neighbors import KNeighborsClassifier\n",
    "cla_knn = KNeighborsClassifier()\n",
    "cla_knn.fit(train_x, train_y)\n",
    "\n",
    "#accuracy testing\n",
    "cla_knn.score(test_x,test_y)"
   ]
  },
  {
   "cell_type": "code",
   "execution_count": 15,
   "id": "867d6df4",
   "metadata": {},
   "outputs": [
    {
     "data": {
      "text/plain": [
       "0.52"
      ]
     },
     "execution_count": 15,
     "metadata": {},
     "output_type": "execute_result"
    }
   ],
   "source": [
    "#disciton tree\n",
    "from sklearn.datasets import load_iris\n",
    "from sklearn import tree\n",
    "clf = tree.DecisionTreeClassifier()\n",
    "clf = clf.fit(train_x,train_y)\n",
    "#accuracy test\n",
    "clf.score(test_x,test_y)"
   ]
  },
  {
   "cell_type": "code",
   "execution_count": 8,
   "id": "556c439d",
   "metadata": {},
   "outputs": [
    {
     "data": {
      "text/plain": [
       "0.79"
      ]
     },
     "execution_count": 8,
     "metadata": {},
     "output_type": "execute_result"
    }
   ],
   "source": [
    "#Random forest classifier algorithm\n",
    "import joblib\n",
    "from sklearn.ensemble import RandomForestClassifier\n",
    "cla_rf = RandomForestClassifier(n_estimators = 100)\n",
    "cla_rf.fit(train_x,train_y)\n",
    "joblib.dump(classifier, \"model/digit_recognizer_randomforest\")\n",
    "\n",
    "#accuracy test\n",
    "cla_rf.score(test_x,test_y)"
   ]
  },
  {
   "cell_type": "code",
   "execution_count": null,
   "id": "16de507c",
   "metadata": {},
   "outputs": [],
   "source": []
  },
  {
   "cell_type": "code",
   "execution_count": 1,
   "id": "d16ad04e",
   "metadata": {
    "scrolled": true
   },
   "outputs": [
    {
     "name": "stderr",
     "output_type": "stream",
     "text": [
      "c:\\Users\\abdul\\AppData\\Local\\Programs\\Python\\Python311\\Lib\\site-packages\\sklearn\\base.py:439: UserWarning: X does not have valid feature names, but SVC was fitted with feature names\n",
      "  warnings.warn(\n"
     ]
    },
    {
     "name": "stdout",
     "output_type": "stream",
     "text": [
      "Prediction: 1\n"
     ]
    }
   ],
   "source": [
    "#prediction of image drawn in paint\n",
    "  \n",
    "import joblib\n",
    "import cv2\n",
    "import numpy as np\n",
    "import time\n",
    "import pyscreenshot as ImageGrab\n",
    "  \n",
    "model=joblib.load(\"model/digit_recognizer_randomforest\")\n",
    "images_folder=\"img/\"\n",
    "  \n",
    "\n",
    "img=ImageGrab.grab(bbox=(100,300,400,600))\n",
    "    \n",
    "img.save(images_folder+\"img.png\")\n",
    "im = cv2.imread(images_folder+\"img.png\")\n",
    "im_gray = cv2.cvtColor(im,cv2.COLOR_BGR2GRAY)\n",
    "im_gray  =cv2.GaussianBlur(im_gray, (15,15), 0)\n",
    "\n",
    "#Threshold the image\n",
    "ret, im_th = cv2.threshold(im_gray,100, 255, cv2.THRESH_BINARY)\n",
    "roi = cv2.resize(im_th, (28,28), interpolation  =cv2.INTER_AREA)\n",
    "\n",
    "rows,cols=roi.shape\n",
    "\n",
    "X = []\n",
    "\n",
    "\n",
    "## Add pixel one by one into data array\n",
    "for i in range(rows):\n",
    "   for j in range(cols):\n",
    "       k = roi[i,j]\n",
    "       if k>100:\n",
    "           k=1\n",
    "       else:\n",
    "           k=0\n",
    "       X.append(k)\n",
    "\n",
    "\n",
    "predictions  =model.predict([X])\n",
    "\n",
    "print(\"Prediction:\",predictions[0])\n",
    "cv2.putText(im, \"Prediction is: \"+str(predictions[0]), (20,20), 0, 0.8,(0,255,0),2,cv2.LINE_AA)\n",
    "\n",
    "cv2.startWindowThread()\n",
    "cv2.namedWindow(\"Result\")\n",
    "cv2.imshow(\"Result\",im)\n",
    "cv2.waitKey(10000)\n",
    "   \n",
    "cv2.destroyAllWindows()"
   ]
  }
 ],
 "metadata": {
  "kernelspec": {
   "display_name": "Python 3 (ipykernel)",
   "language": "python",
   "name": "python3"
  },
  "language_info": {
   "codemirror_mode": {
    "name": "ipython",
    "version": 3
   },
   "file_extension": ".py",
   "mimetype": "text/x-python",
   "name": "python",
   "nbconvert_exporter": "python",
   "pygments_lexer": "ipython3",
   "version": "3.11.3"
  }
 },
 "nbformat": 4,
 "nbformat_minor": 5
}
